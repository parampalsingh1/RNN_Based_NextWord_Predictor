{
  "nbformat": 4,
  "nbformat_minor": 0,
  "metadata": {
    "colab": {
      "provenance": []
    },
    "kernelspec": {
      "name": "python3",
      "display_name": "Python 3"
    },
    "language_info": {
      "name": "python"
    }
  },
  "cells": [
    {
      "cell_type": "markdown",
      "source": [
        "In this, I implement RNN based next-word prediction model using Sherlock Holmes' play as the training data.\n",
        "\n",
        "I first preprocess the data for setting it up for training the model.Then I build the RNN model and train it on the data given. It then gives out the training graph. At last, there is method to take in user sentences as input and output the next predicted output.\n",
        "\n"
      ],
      "metadata": {
        "id": "lEAn0bIGxthl"
      }
    },
    {
      "cell_type": "markdown",
      "source": [
        "# Importing Libraries"
      ],
      "metadata": {
        "id": "UF4FZIuQcn7l"
      }
    },
    {
      "cell_type": "code",
      "execution_count": null,
      "metadata": {
        "id": "FVBniFTRcasP"
      },
      "outputs": [],
      "source": [
        "import numpy as np\n",
        "import pandas as pd\n",
        "import matplotlib.pyplot as plt\n",
        "from numpy.random import shuffle\n",
        "from tensorflow.keras.models import Sequential\n",
        "from tensorflow.keras.preprocessing.text import Tokenizer\n",
        "from tensorflow.keras.preprocessing.sequence import pad_sequences\n",
        "from tensorflow.keras.utils import to_categorical\n",
        "from keras.layers import Embedding, SimpleRNN, Dense, Bidirectional\n"
      ]
    },
    {
      "cell_type": "markdown",
      "source": [
        "# Data's Preprocessing\n"
      ],
      "metadata": {
        "id": "g9B4fbizcgJa"
      }
    },
    {
      "cell_type": "markdown",
      "source": [
        "This reads the text file and converts all text to lowercase and splitting it by newline characters\n",
        "\n"
      ],
      "metadata": {
        "id": "ZwYICh0lcw8Z"
      }
    },
    {
      "cell_type": "code",
      "source": [
        "FILE = 'Desktop/Data.txt'\n",
        "\n",
        "with(open(FILE, 'r')) as f:\n",
        "    data = f.read().lower().split('\\n')\n",
        "\n",
        "#data"
      ],
      "metadata": {
        "id": "htYrt06waRem"
      },
      "execution_count": null,
      "outputs": []
    },
    {
      "cell_type": "markdown",
      "source": [
        "Tokenizer is used here to tokenize the dataset. It creates a dictionary of words with their corresponding index and total words in the vocab are calculated"
      ],
      "metadata": {
        "id": "9lhLx4wDdMQR"
      }
    },
    {
      "cell_type": "code",
      "source": [
        "tkn = Tokenizer()\n",
        "tkn.fit_on_texts(data)\n",
        "total_words = len(tkn.word_index) + 1\n",
        "#data[1]"
      ],
      "metadata": {
        "id": "CXg6cUMgcznw"
      },
      "execution_count": null,
      "outputs": []
    },
    {
      "cell_type": "markdown",
      "source": [
        "The text data is converted into sequence of integers, where each word is represented by its index in tokenizer's word index"
      ],
      "metadata": {
        "id": "XKEyawQSfsDo"
      }
    },
    {
      "cell_type": "code",
      "source": [
        "input_seq = []\n",
        "\n",
        "for s in seq:\n",
        "  for i in range(1, len(s)):\n",
        "    n_seq = s[:i+1]\n",
        "    input_seq.append(n_seq)"
      ],
      "metadata": {
        "id": "hR3-WrePe-VY"
      },
      "execution_count": null,
      "outputs": []
    },
    {
      "cell_type": "markdown",
      "source": [
        "Creating input-output pairs for the data. The input data(X) consists of all words except the last one in each sequence, while the target data(y) consists of the last word in the sequence"
      ],
      "metadata": {
        "id": "rtQhMYeKqbkM"
      }
    },
    {
      "cell_type": "code",
      "source": [
        "max_seq_len = max([len(x) for x in input_seq])\n",
        "input_seq = pad_sequences(input_seq, maxlen = max_seq_len, padding = 'pre')\n",
        "\n",
        "X, y = input_seq[:, :-1], input_seq[:, -1]\n",
        "y = to_categorical(y, num_classes=total_words)\n",
        "\n",
        "#print(X.shape)\n",
        "#print(y)"
      ],
      "metadata": {
        "id": "LnOwIi0hqqyD"
      },
      "execution_count": null,
      "outputs": []
    },
    {
      "cell_type": "markdown",
      "source": [
        "# Building the RNN Model"
      ],
      "metadata": {
        "id": "ZhBVkwTq_ly4"
      }
    },
    {
      "cell_type": "markdown",
      "source": [
        "This build the RNN Model\n",
        "*   `sequential()` initializes a linear stack of layers.\n",
        "\n",
        "*   `Embedding(total_words, 100, input_length=max_sequence_len-1)` creates an embedding layer that maps each word index to a 100-dimensional vector. `total_words` is the size of the vocab, and `input_length` is the length of input sequences.\n",
        "\n",
        "*   `SimpleRNN(150)` adds a SimpleRNN layer with 150 units. This layer processes the sequence data.\n",
        "\n",
        "*   `Dense(total_words, activation='softmax')` adds a dense layer with a softmax activation function, which outputs a probability distribution over the vocabulary for the next word prediction.\n",
        "\n",
        "Then the model is compiled with `categorical_crossentropy` loss and `adam` optimizer. Summary is then generated."
      ],
      "metadata": {
        "id": "6hT-b1MInBPd"
      }
    },
    {
      "cell_type": "code",
      "source": [
        "model = Sequential()\n",
        "model.add(Embedding(total_words, 100, input_length=max_seq_len-1))\n",
        "model.add(SimpleRNN(150))\n",
        "model.add(Dense(total_words, activation='softmax'))\n",
        "\n",
        "model.build(input_shape=(None, max_seq_len-1))\n",
        "model.compile(loss=\"categorical_crossentropy\", optimizer='adam', metrics=['accuracy'])\n",
        "model.summary()"
      ],
      "metadata": {
        "colab": {
          "base_uri": "https://localhost:8080/",
          "height": 232
        },
        "id": "1FcRzJFe_pVh",
        "outputId": "d9a2d2c2-e58a-4747-93a1-4aa66437209e"
      },
      "execution_count": null,
      "outputs": [
        {
          "output_type": "display_data",
          "data": {
            "text/plain": [
              "\u001b[1mModel: \"sequential_20\"\u001b[0m\n"
            ],
            "text/html": [
              "<pre style=\"white-space:pre;overflow-x:auto;line-height:normal;font-family:Menlo,'DejaVu Sans Mono',consolas,'Courier New',monospace\"><span style=\"font-weight: bold\">Model: \"sequential_20\"</span>\n",
              "</pre>\n"
            ]
          },
          "metadata": {}
        },
        {
          "output_type": "display_data",
          "data": {
            "text/plain": [
              "┏━━━━━━━━━━━━━━━━━━━━━━━━━━━━━━━━━┳━━━━━━━━━━━━━━━━━━━━━━━━┳━━━━━━━━━━━━━━━┓\n",
              "┃\u001b[1m \u001b[0m\u001b[1mLayer (type)                   \u001b[0m\u001b[1m \u001b[0m┃\u001b[1m \u001b[0m\u001b[1mOutput Shape          \u001b[0m\u001b[1m \u001b[0m┃\u001b[1m \u001b[0m\u001b[1m      Param #\u001b[0m\u001b[1m \u001b[0m┃\n",
              "┡━━━━━━━━━━━━━━━━━━━━━━━━━━━━━━━━━╇━━━━━━━━━━━━━━━━━━━━━━━━╇━━━━━━━━━━━━━━━┩\n",
              "│ embedding_19 (\u001b[38;5;33mEmbedding\u001b[0m)        │ (\u001b[38;5;45mNone\u001b[0m, \u001b[38;5;34m19\u001b[0m, \u001b[38;5;34m100\u001b[0m)        │       \u001b[38;5;34m893,200\u001b[0m │\n",
              "├─────────────────────────────────┼────────────────────────┼───────────────┤\n",
              "│ simple_rnn_18 (\u001b[38;5;33mSimpleRNN\u001b[0m)       │ (\u001b[38;5;45mNone\u001b[0m, \u001b[38;5;34m150\u001b[0m)            │        \u001b[38;5;34m37,650\u001b[0m │\n",
              "├─────────────────────────────────┼────────────────────────┼───────────────┤\n",
              "│ dense_18 (\u001b[38;5;33mDense\u001b[0m)                │ (\u001b[38;5;45mNone\u001b[0m, \u001b[38;5;34m8932\u001b[0m)           │     \u001b[38;5;34m1,348,732\u001b[0m │\n",
              "└─────────────────────────────────┴────────────────────────┴───────────────┘\n"
            ],
            "text/html": [
              "<pre style=\"white-space:pre;overflow-x:auto;line-height:normal;font-family:Menlo,'DejaVu Sans Mono',consolas,'Courier New',monospace\">┏━━━━━━━━━━━━━━━━━━━━━━━━━━━━━━━━━┳━━━━━━━━━━━━━━━━━━━━━━━━┳━━━━━━━━━━━━━━━┓\n",
              "┃<span style=\"font-weight: bold\"> Layer (type)                    </span>┃<span style=\"font-weight: bold\"> Output Shape           </span>┃<span style=\"font-weight: bold\">       Param # </span>┃\n",
              "┡━━━━━━━━━━━━━━━━━━━━━━━━━━━━━━━━━╇━━━━━━━━━━━━━━━━━━━━━━━━╇━━━━━━━━━━━━━━━┩\n",
              "│ embedding_19 (<span style=\"color: #0087ff; text-decoration-color: #0087ff\">Embedding</span>)        │ (<span style=\"color: #00d7ff; text-decoration-color: #00d7ff\">None</span>, <span style=\"color: #00af00; text-decoration-color: #00af00\">19</span>, <span style=\"color: #00af00; text-decoration-color: #00af00\">100</span>)        │       <span style=\"color: #00af00; text-decoration-color: #00af00\">893,200</span> │\n",
              "├─────────────────────────────────┼────────────────────────┼───────────────┤\n",
              "│ simple_rnn_18 (<span style=\"color: #0087ff; text-decoration-color: #0087ff\">SimpleRNN</span>)       │ (<span style=\"color: #00d7ff; text-decoration-color: #00d7ff\">None</span>, <span style=\"color: #00af00; text-decoration-color: #00af00\">150</span>)            │        <span style=\"color: #00af00; text-decoration-color: #00af00\">37,650</span> │\n",
              "├─────────────────────────────────┼────────────────────────┼───────────────┤\n",
              "│ dense_18 (<span style=\"color: #0087ff; text-decoration-color: #0087ff\">Dense</span>)                │ (<span style=\"color: #00d7ff; text-decoration-color: #00d7ff\">None</span>, <span style=\"color: #00af00; text-decoration-color: #00af00\">8932</span>)           │     <span style=\"color: #00af00; text-decoration-color: #00af00\">1,348,732</span> │\n",
              "└─────────────────────────────────┴────────────────────────┴───────────────┘\n",
              "</pre>\n"
            ]
          },
          "metadata": {}
        },
        {
          "output_type": "display_data",
          "data": {
            "text/plain": [
              "\u001b[1m Total params: \u001b[0m\u001b[38;5;34m2,279,582\u001b[0m (8.70 MB)\n"
            ],
            "text/html": [
              "<pre style=\"white-space:pre;overflow-x:auto;line-height:normal;font-family:Menlo,'DejaVu Sans Mono',consolas,'Courier New',monospace\"><span style=\"font-weight: bold\"> Total params: </span><span style=\"color: #00af00; text-decoration-color: #00af00\">2,279,582</span> (8.70 MB)\n",
              "</pre>\n"
            ]
          },
          "metadata": {}
        },
        {
          "output_type": "display_data",
          "data": {
            "text/plain": [
              "\u001b[1m Trainable params: \u001b[0m\u001b[38;5;34m2,279,582\u001b[0m (8.70 MB)\n"
            ],
            "text/html": [
              "<pre style=\"white-space:pre;overflow-x:auto;line-height:normal;font-family:Menlo,'DejaVu Sans Mono',consolas,'Courier New',monospace\"><span style=\"font-weight: bold\"> Trainable params: </span><span style=\"color: #00af00; text-decoration-color: #00af00\">2,279,582</span> (8.70 MB)\n",
              "</pre>\n"
            ]
          },
          "metadata": {}
        },
        {
          "output_type": "display_data",
          "data": {
            "text/plain": [
              "\u001b[1m Non-trainable params: \u001b[0m\u001b[38;5;34m0\u001b[0m (0.00 B)\n"
            ],
            "text/html": [
              "<pre style=\"white-space:pre;overflow-x:auto;line-height:normal;font-family:Menlo,'DejaVu Sans Mono',consolas,'Courier New',monospace\"><span style=\"font-weight: bold\"> Non-trainable params: </span><span style=\"color: #00af00; text-decoration-color: #00af00\">0</span> (0.00 B)\n",
              "</pre>\n"
            ]
          },
          "metadata": {}
        }
      ]
    },
    {
      "cell_type": "markdown",
      "source": [
        "# Model Training"
      ],
      "metadata": {
        "id": "q66yHRNVFhh5"
      }
    },
    {
      "cell_type": "markdown",
      "source": [
        "Here, model is trained on the data\n",
        "\n",
        "*   `model.fit` trains model on X and Y inputs\n",
        "*   `epochs=50` specifies the model will be trained for 50 epochs\n",
        "*   `batch_size=64` specifies the model will process 64 samples at a time.\n",
        "*   `verbose=1` prints the training progress\n",
        "\n"
      ],
      "metadata": {
        "id": "bkPCFfZAnuxj"
      }
    },
    {
      "cell_type": "code",
      "source": [
        "history = model.fit(X, y, epochs=50, batch_size=64, verbose=1)"
      ],
      "metadata": {
        "colab": {
          "base_uri": "https://localhost:8080/"
        },
        "id": "OiSY6CXz_lgI",
        "outputId": "df737c41-197b-4c76-f534-994eca6a87ae"
      },
      "execution_count": null,
      "outputs": [
        {
          "output_type": "stream",
          "name": "stdout",
          "text": [
            "Epoch 1/50\n",
            "\u001b[1m1588/1588\u001b[0m \u001b[32m━━━━━━━━━━━━━━━━━━━━\u001b[0m\u001b[37m\u001b[0m \u001b[1m37s\u001b[0m 23ms/step - accuracy: 0.0631 - loss: 6.6028\n",
            "Epoch 2/50\n",
            "\u001b[1m1588/1588\u001b[0m \u001b[32m━━━━━━━━━━━━━━━━━━━━\u001b[0m\u001b[37m\u001b[0m \u001b[1m35s\u001b[0m 22ms/step - accuracy: 0.1284 - loss: 5.4318\n",
            "Epoch 3/50\n",
            "\u001b[1m1588/1588\u001b[0m \u001b[32m━━━━━━━━━━━━━━━━━━━━\u001b[0m\u001b[37m\u001b[0m \u001b[1m35s\u001b[0m 22ms/step - accuracy: 0.1585 - loss: 4.9512\n",
            "Epoch 4/50\n",
            "\u001b[1m1588/1588\u001b[0m \u001b[32m━━━━━━━━━━━━━━━━━━━━\u001b[0m\u001b[37m\u001b[0m \u001b[1m36s\u001b[0m 23ms/step - accuracy: 0.1819 - loss: 4.5682\n",
            "Epoch 5/50\n",
            "\u001b[1m1588/1588\u001b[0m \u001b[32m━━━━━━━━━━━━━━━━━━━━\u001b[0m\u001b[37m\u001b[0m \u001b[1m36s\u001b[0m 23ms/step - accuracy: 0.2040 - loss: 4.2489\n",
            "Epoch 6/50\n",
            "\u001b[1m1588/1588\u001b[0m \u001b[32m━━━━━━━━━━━━━━━━━━━━\u001b[0m\u001b[37m\u001b[0m \u001b[1m37s\u001b[0m 23ms/step - accuracy: 0.2326 - loss: 3.9565\n",
            "Epoch 7/50\n",
            "\u001b[1m1588/1588\u001b[0m \u001b[32m━━━━━━━━━━━━━━━━━━━━\u001b[0m\u001b[37m\u001b[0m \u001b[1m37s\u001b[0m 23ms/step - accuracy: 0.2646 - loss: 3.6914\n",
            "Epoch 8/50\n",
            "\u001b[1m1588/1588\u001b[0m \u001b[32m━━━━━━━━━━━━━━━━━━━━\u001b[0m\u001b[37m\u001b[0m \u001b[1m37s\u001b[0m 23ms/step - accuracy: 0.3049 - loss: 3.4128\n",
            "Epoch 9/50\n",
            "\u001b[1m1588/1588\u001b[0m \u001b[32m━━━━━━━━━━━━━━━━━━━━\u001b[0m\u001b[37m\u001b[0m \u001b[1m38s\u001b[0m 24ms/step - accuracy: 0.3388 - loss: 3.1928\n",
            "Epoch 10/50\n",
            "\u001b[1m1588/1588\u001b[0m \u001b[32m━━━━━━━━━━━━━━━━━━━━\u001b[0m\u001b[37m\u001b[0m \u001b[1m38s\u001b[0m 24ms/step - accuracy: 0.3732 - loss: 2.9851\n",
            "Epoch 11/50\n",
            "\u001b[1m1588/1588\u001b[0m \u001b[32m━━━━━━━━━━━━━━━━━━━━\u001b[0m\u001b[37m\u001b[0m \u001b[1m38s\u001b[0m 24ms/step - accuracy: 0.4050 - loss: 2.7998\n",
            "Epoch 12/50\n",
            "\u001b[1m1588/1588\u001b[0m \u001b[32m━━━━━━━━━━━━━━━━━━━━\u001b[0m\u001b[37m\u001b[0m \u001b[1m39s\u001b[0m 24ms/step - accuracy: 0.4355 - loss: 2.6337\n",
            "Epoch 13/50\n",
            "\u001b[1m1588/1588\u001b[0m \u001b[32m━━━━━━━━━━━━━━━━━━━━\u001b[0m\u001b[37m\u001b[0m \u001b[1m40s\u001b[0m 25ms/step - accuracy: 0.4626 - loss: 2.4825\n",
            "Epoch 14/50\n",
            "\u001b[1m1588/1588\u001b[0m \u001b[32m━━━━━━━━━━━━━━━━━━━━\u001b[0m\u001b[37m\u001b[0m \u001b[1m38s\u001b[0m 24ms/step - accuracy: 0.4904 - loss: 2.3409\n",
            "Epoch 15/50\n",
            "\u001b[1m1588/1588\u001b[0m \u001b[32m━━━━━━━━━━━━━━━━━━━━\u001b[0m\u001b[37m\u001b[0m \u001b[1m39s\u001b[0m 25ms/step - accuracy: 0.5139 - loss: 2.2068\n",
            "Epoch 16/50\n",
            "\u001b[1m1588/1588\u001b[0m \u001b[32m━━━━━━━━━━━━━━━━━━━━\u001b[0m\u001b[37m\u001b[0m \u001b[1m39s\u001b[0m 25ms/step - accuracy: 0.5334 - loss: 2.1085\n",
            "Epoch 17/50\n",
            "\u001b[1m1588/1588\u001b[0m \u001b[32m━━━━━━━━━━━━━━━━━━━━\u001b[0m\u001b[37m\u001b[0m \u001b[1m40s\u001b[0m 25ms/step - accuracy: 0.5541 - loss: 2.0022\n",
            "Epoch 18/50\n",
            "\u001b[1m1588/1588\u001b[0m \u001b[32m━━━━━━━━━━━━━━━━━━━━\u001b[0m\u001b[37m\u001b[0m \u001b[1m39s\u001b[0m 25ms/step - accuracy: 0.5694 - loss: 1.9152\n",
            "Epoch 19/50\n",
            "\u001b[1m1588/1588\u001b[0m \u001b[32m━━━━━━━━━━━━━━━━━━━━\u001b[0m\u001b[37m\u001b[0m \u001b[1m40s\u001b[0m 25ms/step - accuracy: 0.5894 - loss: 1.8296\n",
            "Epoch 20/50\n",
            "\u001b[1m1588/1588\u001b[0m \u001b[32m━━━━━━━━━━━━━━━━━━━━\u001b[0m\u001b[37m\u001b[0m \u001b[1m39s\u001b[0m 25ms/step - accuracy: 0.6030 - loss: 1.7627\n",
            "Epoch 21/50\n",
            "\u001b[1m1588/1588\u001b[0m \u001b[32m━━━━━━━━━━━━━━━━━━━━\u001b[0m\u001b[37m\u001b[0m \u001b[1m40s\u001b[0m 25ms/step - accuracy: 0.6161 - loss: 1.6898\n",
            "Epoch 22/50\n",
            "\u001b[1m1588/1588\u001b[0m \u001b[32m━━━━━━━━━━━━━━━━━━━━\u001b[0m\u001b[37m\u001b[0m \u001b[1m40s\u001b[0m 25ms/step - accuracy: 0.6270 - loss: 1.6362\n",
            "Epoch 23/50\n",
            "\u001b[1m1588/1588\u001b[0m \u001b[32m━━━━━━━━━━━━━━━━━━━━\u001b[0m\u001b[37m\u001b[0m \u001b[1m40s\u001b[0m 25ms/step - accuracy: 0.6426 - loss: 1.5661\n",
            "Epoch 24/50\n",
            "\u001b[1m1588/1588\u001b[0m \u001b[32m━━━━━━━━━━━━━━━━━━━━\u001b[0m\u001b[37m\u001b[0m \u001b[1m41s\u001b[0m 26ms/step - accuracy: 0.6508 - loss: 1.5258\n",
            "Epoch 25/50\n",
            "\u001b[1m1588/1588\u001b[0m \u001b[32m━━━━━━━━━━━━━━━━━━━━\u001b[0m\u001b[37m\u001b[0m \u001b[1m41s\u001b[0m 26ms/step - accuracy: 0.6629 - loss: 1.4677\n",
            "Epoch 26/50\n",
            "\u001b[1m1588/1588\u001b[0m \u001b[32m━━━━━━━━━━━━━━━━━━━━\u001b[0m\u001b[37m\u001b[0m \u001b[1m40s\u001b[0m 25ms/step - accuracy: 0.6707 - loss: 1.4304\n",
            "Epoch 27/50\n",
            "\u001b[1m1588/1588\u001b[0m \u001b[32m━━━━━━━━━━━━━━━━━━━━\u001b[0m\u001b[37m\u001b[0m \u001b[1m41s\u001b[0m 26ms/step - accuracy: 0.6797 - loss: 1.3893\n",
            "Epoch 28/50\n",
            "\u001b[1m1588/1588\u001b[0m \u001b[32m━━━━━━━━━━━━━━━━━━━━\u001b[0m\u001b[37m\u001b[0m \u001b[1m41s\u001b[0m 26ms/step - accuracy: 0.6869 - loss: 1.3609\n",
            "Epoch 29/50\n",
            "\u001b[1m1588/1588\u001b[0m \u001b[32m━━━━━━━━━━━━━━━━━━━━\u001b[0m\u001b[37m\u001b[0m \u001b[1m41s\u001b[0m 26ms/step - accuracy: 0.6923 - loss: 1.3255\n",
            "Epoch 30/50\n",
            "\u001b[1m1588/1588\u001b[0m \u001b[32m━━━━━━━━━━━━━━━━━━━━\u001b[0m\u001b[37m\u001b[0m \u001b[1m41s\u001b[0m 26ms/step - accuracy: 0.6976 - loss: 1.2939\n",
            "Epoch 31/50\n",
            "\u001b[1m1588/1588\u001b[0m \u001b[32m━━━━━━━━━━━━━━━━━━━━\u001b[0m\u001b[37m\u001b[0m \u001b[1m42s\u001b[0m 26ms/step - accuracy: 0.7062 - loss: 1.2596\n",
            "Epoch 32/50\n",
            "\u001b[1m1588/1588\u001b[0m \u001b[32m━━━━━━━━━━━━━━━━━━━━\u001b[0m\u001b[37m\u001b[0m \u001b[1m42s\u001b[0m 27ms/step - accuracy: 0.7108 - loss: 1.2381\n",
            "Epoch 33/50\n",
            "\u001b[1m1588/1588\u001b[0m \u001b[32m━━━━━━━━━━━━━━━━━━━━\u001b[0m\u001b[37m\u001b[0m \u001b[1m43s\u001b[0m 27ms/step - accuracy: 0.7146 - loss: 1.2105\n",
            "Epoch 34/50\n",
            "\u001b[1m1588/1588\u001b[0m \u001b[32m━━━━━━━━━━━━━━━━━━━━\u001b[0m\u001b[37m\u001b[0m \u001b[1m42s\u001b[0m 27ms/step - accuracy: 0.7229 - loss: 1.1815\n",
            "Epoch 35/50\n",
            "\u001b[1m1588/1588\u001b[0m \u001b[32m━━━━━━━━━━━━━━━━━━━━\u001b[0m\u001b[37m\u001b[0m \u001b[1m42s\u001b[0m 27ms/step - accuracy: 0.7278 - loss: 1.1605\n",
            "Epoch 36/50\n",
            "\u001b[1m1588/1588\u001b[0m \u001b[32m━━━━━━━━━━━━━━━━━━━━\u001b[0m\u001b[37m\u001b[0m \u001b[1m42s\u001b[0m 27ms/step - accuracy: 0.7284 - loss: 1.1449\n",
            "Epoch 37/50\n",
            "\u001b[1m1588/1588\u001b[0m \u001b[32m━━━━━━━━━━━━━━━━━━━━\u001b[0m\u001b[37m\u001b[0m \u001b[1m43s\u001b[0m 27ms/step - accuracy: 0.7352 - loss: 1.1211\n",
            "Epoch 38/50\n",
            "\u001b[1m1588/1588\u001b[0m \u001b[32m━━━━━━━━━━━━━━━━━━━━\u001b[0m\u001b[37m\u001b[0m \u001b[1m43s\u001b[0m 27ms/step - accuracy: 0.7417 - loss: 1.0951\n",
            "Epoch 39/50\n",
            "\u001b[1m1588/1588\u001b[0m \u001b[32m━━━━━━━━━━━━━━━━━━━━\u001b[0m\u001b[37m\u001b[0m \u001b[1m43s\u001b[0m 27ms/step - accuracy: 0.7422 - loss: 1.0814\n",
            "Epoch 40/50\n",
            "\u001b[1m1588/1588\u001b[0m \u001b[32m━━━━━━━━━━━━━━━━━━━━\u001b[0m\u001b[37m\u001b[0m \u001b[1m43s\u001b[0m 27ms/step - accuracy: 0.7456 - loss: 1.0749\n",
            "Epoch 41/50\n",
            "\u001b[1m1588/1588\u001b[0m \u001b[32m━━━━━━━━━━━━━━━━━━━━\u001b[0m\u001b[37m\u001b[0m \u001b[1m44s\u001b[0m 28ms/step - accuracy: 0.7493 - loss: 1.0500\n",
            "Epoch 42/50\n",
            "\u001b[1m1588/1588\u001b[0m \u001b[32m━━━━━━━━━━━━━━━━━━━━\u001b[0m\u001b[37m\u001b[0m \u001b[1m44s\u001b[0m 27ms/step - accuracy: 0.7483 - loss: 1.0449\n",
            "Epoch 43/50\n",
            "\u001b[1m1588/1588\u001b[0m \u001b[32m━━━━━━━━━━━━━━━━━━━━\u001b[0m\u001b[37m\u001b[0m \u001b[1m44s\u001b[0m 28ms/step - accuracy: 0.7603 - loss: 1.0071\n",
            "Epoch 44/50\n",
            "\u001b[1m1588/1588\u001b[0m \u001b[32m━━━━━━━━━━━━━━━━━━━━\u001b[0m\u001b[37m\u001b[0m \u001b[1m43s\u001b[0m 27ms/step - accuracy: 0.7572 - loss: 1.0082\n",
            "Epoch 45/50\n",
            "\u001b[1m1588/1588\u001b[0m \u001b[32m━━━━━━━━━━━━━━━━━━━━\u001b[0m\u001b[37m\u001b[0m \u001b[1m44s\u001b[0m 28ms/step - accuracy: 0.7600 - loss: 1.0007\n",
            "Epoch 46/50\n",
            "\u001b[1m1588/1588\u001b[0m \u001b[32m━━━━━━━━━━━━━━━━━━━━\u001b[0m\u001b[37m\u001b[0m \u001b[1m42s\u001b[0m 27ms/step - accuracy: 0.7579 - loss: 1.0017\n",
            "Epoch 47/50\n",
            "\u001b[1m1588/1588\u001b[0m \u001b[32m━━━━━━━━━━━━━━━━━━━━\u001b[0m\u001b[37m\u001b[0m \u001b[1m44s\u001b[0m 28ms/step - accuracy: 0.7664 - loss: 0.9660\n",
            "Epoch 48/50\n",
            "\u001b[1m1588/1588\u001b[0m \u001b[32m━━━━━━━━━━━━━━━━━━━━\u001b[0m\u001b[37m\u001b[0m \u001b[1m44s\u001b[0m 28ms/step - accuracy: 0.7686 - loss: 0.9565\n",
            "Epoch 49/50\n",
            "\u001b[1m1588/1588\u001b[0m \u001b[32m━━━━━━━━━━━━━━━━━━━━\u001b[0m\u001b[37m\u001b[0m \u001b[1m44s\u001b[0m 28ms/step - accuracy: 0.7704 - loss: 0.9503\n",
            "Epoch 50/50\n",
            "\u001b[1m1588/1588\u001b[0m \u001b[32m━━━━━━━━━━━━━━━━━━━━\u001b[0m\u001b[37m\u001b[0m \u001b[1m43s\u001b[0m 27ms/step - accuracy: 0.7719 - loss: 0.9471\n"
          ]
        }
      ]
    },
    {
      "cell_type": "markdown",
      "source": [
        "Plotting the training performance"
      ],
      "metadata": {
        "id": "zKTdi1rmoqei"
      }
    },
    {
      "cell_type": "markdown",
      "source": [
        "# Graphs and User inputs"
      ],
      "metadata": {
        "id": "ifDUTq0kkmO0"
      }
    },
    {
      "cell_type": "markdown",
      "source": [
        "The graph between 'accuracy' and 'loss' is plotted for the training"
      ],
      "metadata": {
        "id": "v8RZtUaspURp"
      }
    },
    {
      "cell_type": "code",
      "source": [
        "plt.plot(history.history['accuracy'], label='Accuracy')\n",
        "plt.plot(history.history['loss'], label='Loss')\n",
        "plt.xlabel('Epochs')\n",
        "plt.ylabel('Metric')\n",
        "plt.legend()\n",
        "plt.show()\n",
        "\n"
      ],
      "metadata": {
        "colab": {
          "base_uri": "https://localhost:8080/",
          "height": 449
        },
        "id": "vPpsDio4ZJHI",
        "outputId": "66760486-e3b8-4c6b-b4ab-e14879b3de2b"
      },
      "execution_count": null,
      "outputs": [
        {
          "output_type": "display_data",
          "data": {
            "text/plain": [
              "<Figure size 640x480 with 1 Axes>"
            ],
            "image/png": "[encoded data removed]"
          },
          "metadata": {}
        }
      ]
    },
    {
      "cell_type": "markdown",
      "source": [
        "This has the method `predict_word` which is used to predict the next word in a sequence.\n",
        "\n",
        "Then the user input is taken and next word is printed."
      ],
      "metadata": {
        "id": "SL0TCbSTrt3x"
      }
    },
    {
      "cell_type": "code",
      "source": [
        "def predict_word(model, tkn, input_text, max_seq_len):\n",
        "    input_seq = tkn.texts_to_sequences([input_text])[0]\n",
        "    sequence = pad_sequences([input_seq], maxlen=max_seq_len-1, padding='pre')\n",
        "    predicted = model.predict(sequence, verbose=0)\n",
        "\n",
        "    predicted_word = ''\n",
        "    for word, index in tkn.word_index.items():\n",
        "        if index == np.argmax(predicted):\n",
        "            predicted_word = word\n",
        "            break\n",
        "    return predicted_word\n",
        "\n",
        "user_input = input(\"Enter the line: \")\n",
        "predict_word = predict_word(model, tkn, user_input, max_seq_len)\n",
        "print(\"Predicted Word: \" + predict_word)\n"
      ],
      "metadata": {
        "colab": {
          "base_uri": "https://localhost:8080/"
        },
        "id": "oMpwvUoj_hIh",
        "outputId": "da0a01c6-17c4-4e07-8926-b1d4dae652fc"
      },
      "execution_count": null,
      "outputs": [
        {
          "output_type": "stream",
          "name": "stdout",
          "text": [
            "Enter the line: Your name is Sherlock...?\n",
            "Predicted Word: holmes\n"
          ]
        }
      ]
    },
    {
      "cell_type": "markdown",
      "source": [
        "This model now predicts the next word based on the trained data for whatever the sentence or word the user inputs. This reflects ability of RNNs to learn word relations and generate predictions base on patterns.\n",
        "\n",
        "Some Sample Runs:\n",
        "\n",
        "![Screenshot 2025-03-03 at 8.39.03 PM.png](data:image/png;base64,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)\n",
        "\n",
        "\n",
        "![Screenshot 2025-03-03 at 8.39.53 PM.png](data:image/png;base64,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)\n",
        "\n",
        "\n",
        "![Screenshot 2025-03-03 at 8.41.53 PM.png](data:image/png;base64,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)\n"
      ],
      "metadata": {
        "id": "gUxEppzOvgFJ"
      }
    },
    {
      "cell_type": "code",
      "source": [],
      "metadata": {
        "id": "Ums-R4rYzQtV"
      },
      "execution_count": null,
      "outputs": []
    }
  ]
}